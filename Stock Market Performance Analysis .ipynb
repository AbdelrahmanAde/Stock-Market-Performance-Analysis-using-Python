{
 "cells": [
  {
   "cell_type": "code",
   "execution_count": null,
   "id": "23079202",
   "metadata": {
    "_cell_guid": "b1076dfc-b9ad-4769-8c92-a6c4dae69d19",
    "_uuid": "8f2839f25d086af736a60e9eeb907d3b93b6e0e5",
    "execution": {
     "iopub.execute_input": "2024-04-12T06:17:53.228000Z",
     "iopub.status.busy": "2024-04-12T06:17:53.227276Z",
     "iopub.status.idle": "2024-04-12T06:17:54.136830Z",
     "shell.execute_reply": "2024-04-12T06:17:54.135534Z"
    },
    "papermill": {
     "duration": 0.929252,
     "end_time": "2024-04-12T06:17:54.139815",
     "exception": false,
     "start_time": "2024-04-12T06:17:53.210563",
     "status": "completed"
    },
    "tags": []
   },
   "outputs": [
    {
     "ename": "",
     "evalue": "",
     "output_type": "error",
     "traceback": [
      "\u001b[1;31mRunning cells with 'Python 3.7.6' requires the ipykernel package.\n",
      "\u001b[1;31mRun the following command to install 'ipykernel' into the Python environment. \n",
      "\u001b[1;31mCommand: 'c:/Users/as7aba/AppData/Local/Programs/Python/Python37/python.exe -m pip install ipykernel -U --user --force-reinstall'"
     ]
    }
   ],
   "source": [
    "import pandas as pd\n",
    "import yfinance as yf\n",
    "from datetime import datetime\n",
    "\n",
    "start_date = datetime.now() - pd.DateOffset(months=3)\n",
    "end_date = datetime.now()\n",
    "\n",
    "tickers = ['AAPL', 'MSFT', 'NFLX', 'GOOG']\n",
    "\n",
    "df_list = []\n",
    "\n",
    "for ticker in tickers:\n",
    "    data = yf.download(ticker, start=start_date, end=end_date)\n",
    "    df_list.append(data)\n",
    "\n",
    "df = pd.concat(df_list, keys=tickers, names=['Ticker', 'Date'])\n",
    "print(df.head())"
   ]
  },
  {
   "cell_type": "markdown",
   "id": "644e7c3d",
   "metadata": {
    "papermill": {
     "duration": 0.012319,
     "end_time": "2024-04-12T06:17:54.165213",
     "exception": false,
     "start_time": "2024-04-12T06:17:54.152894",
     "status": "completed"
    },
    "tags": []
   },
   "source": [
    "# Stock Market Performance Analysis"
   ]
  },
  {
   "cell_type": "code",
   "execution_count": 2,
   "id": "7d5512c2",
   "metadata": {
    "execution": {
     "iopub.execute_input": "2024-04-12T06:17:54.193104Z",
     "iopub.status.busy": "2024-04-12T06:17:54.192544Z",
     "iopub.status.idle": "2024-04-12T06:17:56.761634Z",
     "shell.execute_reply": "2024-04-12T06:17:56.760007Z"
    },
    "papermill": {
     "duration": 2.586697,
     "end_time": "2024-04-12T06:17:56.764935",
     "exception": false,
     "start_time": "2024-04-12T06:17:54.178238",
     "status": "completed"
    },
    "tags": []
   },
   "outputs": [],
   "source": [
    "df = df.reset_index()\n",
    "print(df.head())"
   ]
  },
  {
   "cell_type": "code",
   "execution_count": 3,
   "id": "7659e32a",
   "metadata": {
    "execution": {
     "iopub.execute_input": "2024-04-12T06:17:56.794290Z",
     "iopub.status.busy": "2024-04-12T06:17:56.793359Z",
     "iopub.status.idle": "2024-04-12T06:17:56.812181Z",
     "shell.execute_reply": "2024-04-12T06:17:56.811020Z"
    },
    "papermill": {
     "duration": 0.036867,
     "end_time": "2024-04-12T06:17:56.814736",
     "exception": false,
     "start_time": "2024-04-12T06:17:56.777869",
     "status": "completed"
    },
    "tags": []
   },
   "outputs": [],
   "source": [
    "import plotly.express as px\n",
    "fig = px.line(df, x='Date', \n",
    "              y='Close', \n",
    "              color='Ticker', \n",
    "              title=\"Stock Market Performance for the Last 3 Months\")\n",
    "fig.show()"
   ]
  },
  {
   "cell_type": "code",
   "execution_count": 4,
   "id": "ee4b107d",
   "metadata": {
    "execution": {
     "iopub.execute_input": "2024-04-12T06:17:56.842709Z",
     "iopub.status.busy": "2024-04-12T06:17:56.842318Z",
     "iopub.status.idle": "2024-04-12T06:17:56.853710Z",
     "shell.execute_reply": "2024-04-12T06:17:56.852481Z"
    },
    "papermill": {
     "duration": 0.028571,
     "end_time": "2024-04-12T06:17:56.856435",
     "exception": false,
     "start_time": "2024-04-12T06:17:56.827864",
     "status": "completed"
    },
    "tags": []
   },
   "outputs": [
    {
     "name": "stdout",
     "output_type": "stream",
     "text": [
      "         Date  Clicks  Impressions\n",
      "0  2022-10-19    2851        58598\n",
      "1  2022-10-20    2707        57628\n",
      "2  2022-10-21    2246        50135\n",
      "3  2022-10-22    1686        40608\n",
      "4  2022-10-23    1808        41999\n"
     ]
    }
   ],
   "source": [
    "fig = px.area(df, x='Date', y='Close', color='Ticker',\n",
    "              facet_col='Ticker',\n",
    "              labels={'Date':'Date', 'Close':'Closing Price', 'Ticker':'Company'},\n",
    "              title='Stock Prices for Apple, Microsoft, Netflix, and Google')\n",
    "fig.show()"
   ]
  },
  {
   "cell_type": "code",
   "execution_count": 5,
   "id": "46c71f37",
   "metadata": {
    "execution": {
     "iopub.execute_input": "2024-04-12T06:17:56.884587Z",
     "iopub.status.busy": "2024-04-12T06:17:56.883829Z",
     "iopub.status.idle": "2024-04-12T06:17:56.910271Z",
     "shell.execute_reply": "2024-04-12T06:17:56.908641Z"
    },
    "papermill": {
     "duration": 0.043238,
     "end_time": "2024-04-12T06:17:56.912637",
     "exception": false,
     "start_time": "2024-04-12T06:17:56.869399",
     "status": "completed"
    },
    "tags": []
   },
   "outputs": [
    {
     "name": "stdout",
     "output_type": "stream",
     "text": [
      "<class 'pandas.core.frame.DataFrame'>\n",
      "RangeIndex: 365 entries, 0 to 364\n",
      "Data columns (total 3 columns):\n",
      " #   Column       Non-Null Count  Dtype \n",
      "---  ------       --------------  ----- \n",
      " 0   Date         365 non-null    object\n",
      " 1   Clicks       365 non-null    int64 \n",
      " 2   Impressions  365 non-null    int64 \n",
      "dtypes: int64(2), object(1)\n",
      "memory usage: 8.7+ KB\n",
      "None\n"
     ]
    }
   ],
   "source": [
    "df['MA10'] = df.groupby('Ticker')['Close'].rolling(window=10).mean().reset_index(0, drop=True)\n",
    "df['MA20'] = df.groupby('Ticker')['Close'].rolling(window=20).mean().reset_index(0, drop=True)\n",
    "\n",
    "for ticker, group in df.groupby('Ticker'):\n",
    "    print(f'Moving Averages for {ticker}')\n",
    "    print(group[['MA10', 'MA20']])"
   ]
  },
  {
   "cell_type": "code",
   "execution_count": 6,
   "id": "0dc70871",
   "metadata": {
    "execution": {
     "iopub.execute_input": "2024-04-12T06:17:56.940265Z",
     "iopub.status.busy": "2024-04-12T06:17:56.939877Z",
     "iopub.status.idle": "2024-04-12T06:17:56.946509Z",
     "shell.execute_reply": "2024-04-12T06:17:56.945328Z"
    },
    "papermill": {
     "duration": 0.023872,
     "end_time": "2024-04-12T06:17:56.949360",
     "exception": false,
     "start_time": "2024-04-12T06:17:56.925488",
     "status": "completed"
    },
    "tags": []
   },
   "outputs": [
    {
     "name": "stdout",
     "output_type": "stream",
     "text": [
      "Date           0\n",
      "Clicks         0\n",
      "Impressions    0\n",
      "dtype: int64\n"
     ]
    }
   ],
   "source": [
    "for ticker, group in df.groupby('Ticker'):\n",
    "    fig = px.line(group, x='Date', y=['Close', 'MA10', 'MA20'], \n",
    "                  title=f\"{ticker} Moving Averages\")\n",
    "    fig.show()"
   ]
  },
  {
   "cell_type": "code",
   "execution_count": 7,
   "id": "bd8d1d84",
   "metadata": {
    "execution": {
     "iopub.execute_input": "2024-04-12T06:17:56.976923Z",
     "iopub.status.busy": "2024-04-12T06:17:56.976490Z",
     "iopub.status.idle": "2024-04-12T06:17:56.985071Z",
     "shell.execute_reply": "2024-04-12T06:17:56.984035Z"
    },
    "papermill": {
     "duration": 0.025093,
     "end_time": "2024-04-12T06:17:56.987395",
     "exception": false,
     "start_time": "2024-04-12T06:17:56.962302",
     "status": "completed"
    },
    "tags": []
   },
   "outputs": [
    {
     "data": {
      "text/plain": [
       "0"
      ]
     },
     "execution_count": 7,
     "metadata": {},
     "output_type": "execute_result"
    }
   ],
   "source": [
    "df['Volatility'] = df.groupby('Ticker')['Close'].pct_change().rolling(window=10).std().reset_index(0, drop=True)\n",
    "fig = px.line(df, x='Date', y='Volatility', \n",
    "              color='Ticker', \n",
    "              title='Volatility of All Companies')\n",
    "fig.show()"
   ]
  },
  {
   "cell_type": "markdown",
   "id": "e37e8286",
   "metadata": {
    "papermill": {
     "duration": 0.01338,
     "end_time": "2024-04-12T06:17:57.013867",
     "exception": false,
     "start_time": "2024-04-12T06:17:57.000487",
     "status": "completed"
    },
    "tags": []
   },
   "source": [
    "Let’s start by converting the Date column in the DataFrame from a string format to a datetime format and then setting it as the index of the DataFrame:"
   ]
  },
  {
   "cell_type": "code",
   "execution_count": 8,
   "id": "0cd4a32d",
   "metadata": {
    "execution": {
     "iopub.execute_input": "2024-04-12T06:17:57.042309Z",
     "iopub.status.busy": "2024-04-12T06:17:57.041534Z",
     "iopub.status.idle": "2024-04-12T06:17:57.053090Z",
     "shell.execute_reply": "2024-04-12T06:17:57.051759Z"
    },
    "papermill": {
     "duration": 0.028424,
     "end_time": "2024-04-12T06:17:57.055557",
     "exception": false,
     "start_time": "2024-04-12T06:17:57.027133",
     "status": "completed"
    },
    "tags": []
   },
   "outputs": [],
   "source": [
    "# create a DataFrame with the stock prices of Apple and Microsoft\n",
    "apple = df.loc[df['Ticker'] == 'AAPL', ['Date', 'Close']].rename(columns={'Close': 'AAPL'})\n",
    "microsoft = df.loc[df['Ticker'] == 'MSFT', ['Date', 'Close']].rename(columns={'Close': 'MSFT'})\n",
    "df_corr = pd.merge(apple, microsoft, on='Date')\n",
    "\n",
    "# create a scatter plot to visualize the correlation\n",
    "fig = px.scatter(df_corr, x='AAPL', y='MSFT', \n",
    "                 trendline='ols', \n",
    "                 title='Correlation between Apple and Microsoft')\n",
    "fig.show()"
   ]
  }
 ],
 "metadata": {
  "kaggle": {
   "accelerator": "none",
   "dataSources": [
    {
     "datasetId": 4109734,
     "sourceId": 7124443,
     "sourceType": "datasetVersion"
    }
   ],
   "dockerImageVersionId": 30684,
   "isGpuEnabled": false,
   "isInternetEnabled": true,
   "language": "python",
   "sourceType": "notebook"
  },
  "kernelspec": {
   "display_name": "Python 3",
   "language": "python",
   "name": "python3"
  },
  "language_info": {
   "codemirror_mode": {
    "name": "ipython",
    "version": 3
   },
   "file_extension": ".py",
   "mimetype": "text/x-python",
   "name": "python",
   "nbconvert_exporter": "python",
   "pygments_lexer": "ipython3",
   "version": "undefined.undefined.undefined"
  },
  "papermill": {
   "default_parameters": {},
   "duration": 18.568337,
   "end_time": "2024-04-12T06:18:08.732670",
   "environment_variables": {},
   "exception": null,
   "input_path": "__notebook__.ipynb",
   "output_path": "__notebook__.ipynb",
   "parameters": {},
   "start_time": "2024-04-12T06:17:50.164333",
   "version": "2.5.0"
  }
 },
 "nbformat": 4,
 "nbformat_minor": 5
}
